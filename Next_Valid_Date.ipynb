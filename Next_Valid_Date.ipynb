{
 "cells": [
  {
   "cell_type": "code",
   "execution_count": 3,
   "id": "358b0bad",
   "metadata": {},
   "outputs": [
    {
     "name": "stdout",
     "output_type": "stream",
     "text": [
      "Next valid date is - 1:3:2021\n"
     ]
    }
   ],
   "source": [
    "def increament_month(month,year):\n",
    "    return ([month+1,year] if month <= 11 else [1, year+1])\n",
    "    \n",
    "\n",
    "date_str = '28:2:2021'\n",
    "\n",
    "date, month, year = map(int, date_str.split(':'))\n",
    "\n",
    "months_31 = [1,3,5,7,8,10,12] #months with 31 days\n",
    "\n",
    "if month == 2:\n",
    "    leap_year = True if (year % 4 == 0) and (year % 100 != 0 or year % 400 == 0) else False #check leap year\n",
    "    \n",
    "    if date < 28 or (date == 28 and leap_year):\n",
    "         date = date + 1\n",
    "        \n",
    "    else:\n",
    "        date = 1\n",
    "        month, year = increament_month(month,year)\n",
    "\n",
    "elif (date == 30 and month not in months_31) or (date == 31):\n",
    "    date = 1\n",
    "    month, year = increament_month(month,year)\n",
    "\n",
    "else:\n",
    "        date = date + 1\n",
    "\n",
    "print(\"Next valid date is -\", ':'.join(list(map(str,[date,month,year]))))"
   ]
  },
  {
   "cell_type": "code",
   "execution_count": null,
   "id": "a9ce14b4",
   "metadata": {},
   "outputs": [],
   "source": []
  }
 ],
 "metadata": {
  "kernelspec": {
   "display_name": "Python 3 (ipykernel)",
   "language": "python",
   "name": "python3"
  },
  "language_info": {
   "codemirror_mode": {
    "name": "ipython",
    "version": 3
   },
   "file_extension": ".py",
   "mimetype": "text/x-python",
   "name": "python",
   "nbconvert_exporter": "python",
   "pygments_lexer": "ipython3",
   "version": "3.9.2"
  }
 },
 "nbformat": 4,
 "nbformat_minor": 5
}
